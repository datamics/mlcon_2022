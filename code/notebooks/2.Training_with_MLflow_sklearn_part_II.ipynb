{
 "cells": [
  {
   "cell_type": "markdown",
   "id": "c9cd1984",
   "metadata": {},
   "source": [
    "<a href=\"https://akademie.datamics.com/kursliste/\">![title](../screenshots/bg_datamics_top.png)</a>\n",
    "\n",
    "<center><em>© Datamics</em></center><br><center><em>Check out our courses on <a href='https://akademie.datamics.com/kursliste/'>www.akademie.datamics.com</a></em>"
   ]
  },
  {
   "cell_type": "markdown",
   "id": "5f5608c1",
   "metadata": {},
   "source": [
    "<div class=\"alert alert-info\">\n",
    "    <h1>  Dataset: Wine Quality prediction </h1>\n",
    "</div>\n",
    "\n",
    "*This datasets is related to red variants of the Portuguese. Due to privacy and logistic issues, only physicochemical (inputs) and sensory (the output) variables are available (e.g. there is no data about grape types, wine brand, wine selling price, etc.).*\n",
    "\n",
    "*The datasets can be viewed as classification or regression tasks. The classes are ordered and not balanced (e.g. there are much more normal wines than excellent or poor ones).*\n",
    "\n",
    "**Input Features:** \n",
    "- Fixed acidity \n",
    "- Volatile acidity\n",
    "- Citric acid\n",
    "- Residual sugar\n",
    "- Chlorides\n",
    "- Free sulfur dioxide\n",
    "- Total sulfur dioxide\n",
    "- Density\n",
    "- pH\n",
    "- Sulphate\n",
    "- Alcohol\n",
    "\n",
    "**Output column:** \n",
    "- Quality (score between 0 and 10)\n",
    "\n",
    "\n",
    "Data is available at: https://www.kaggle.com/datasets/uciml/red-wine-quality-cortez-et-al-2009?resource=download"
   ]
  },
  {
   "cell_type": "markdown",
   "id": "caf4d36c",
   "metadata": {},
   "source": [
    "<div class=\"alert alert-info\"> \n",
    "<h2>Quick Recap</h2>\n",
    "</div>"
   ]
  },
  {
   "cell_type": "markdown",
   "id": "b44b418c",
   "metadata": {},
   "source": [
    "**We learned, how to ...**"
   ]
  },
  {
   "cell_type": "markdown",
   "id": "c1a7dfea",
   "metadata": {},
   "source": [
    "1. Run mlflow server\n",
    "2. Train the regression model with MLflow\n",
    "    - Add the MLflow loggers\n",
    "    - Create experiments\n",
    "    - Add run names and tags to each run\n",
    "    - Add artifact store to log the model binaries in a standard format"
   ]
  },
  {
   "cell_type": "markdown",
   "id": "1f5f468d",
   "metadata": {},
   "source": [
    "<div class=\"alert alert-info\"> \n",
    "<h2>What will we learn now</h2>\n",
    "</div>"
   ]
  },
  {
   "cell_type": "markdown",
   "id": "e7baefdc",
   "metadata": {},
   "source": [
    "<div class=\"alert alert-warning\">\n",
    "    <h3> 1. Adding backend store</h3>\n",
    "</div>\n",
    "\n",
    "- Check the MLflow dashboard, try to register models\n",
    "- Create a database using sqlite to log models in mlflow registry\n",
    "- Create and run MLflow server with backend store\n",
    "- Set model registry using `mlflow.set_registry_uri()`\n",
    "- Optional, cloud solution\n",
    "    - set tracking URL to a particular host using `mlflow.set_tracking_uri()` "
   ]
  },
  {
   "cell_type": "markdown",
   "id": "e7a60973",
   "metadata": {},
   "source": [
    "### 1.0 Install Sqlite (most likely to be present with python>2.5)"
   ]
  },
  {
   "cell_type": "code",
   "execution_count": 1,
   "id": "b0fd3185",
   "metadata": {},
   "outputs": [],
   "source": [
    "# !pip install sqlite3"
   ]
  },
  {
   "cell_type": "markdown",
   "id": "f4d0f4b8",
   "metadata": {},
   "source": [
    "### 1.1 Create a sqlite database\n",
    "1. Create a new directory sqlite_backend_store, in the current mlflow folder\n",
    "2. Open terminal, go to the newly created folder, run `sqlite3 backend_store.db`\n",
    "3. Exit the terminal, cmd+d or clt+c"
   ]
  },
  {
   "cell_type": "markdown",
   "id": "e817c294",
   "metadata": {},
   "source": [
    "![title](../screenshots/sqlite3_db_creation.png)"
   ]
  },
  {
   "cell_type": "markdown",
   "id": "b6e91bde",
   "metadata": {},
   "source": [
    "### 1.2 SQLite URI\n",
    "`sqlite:///path_to_db.db`"
   ]
  },
  {
   "cell_type": "markdown",
   "id": "ab35f653",
   "metadata": {},
   "source": [
    "<div class=\"alert alert-warning\"> \n",
    "    <p> Start the mlflow server (from Terminal) </p> \n",
    "    Command: <code>mlflow ui</code>\n",
    "</div>"
   ]
  },
  {
   "cell_type": "code",
   "execution_count": 9,
   "id": "c8c663fa",
   "metadata": {},
   "outputs": [
    {
     "name": "stdout",
     "output_type": "stream",
     "text": [
      "Dataset: Training \n",
      "RMSE:0.7800026855881376\n",
      "MAE: 0.6367433839218013\n",
      "R2:0.06818906420201365\n",
      "\n",
      "\n",
      "Tracking URI: sqlite:////Users/saumyagoyal/JupyterNotebook/Datamics/MLCon_Berlin/sqlite_backend_store/backend_store.db\n",
      "Artifact Location: /Users/saumyagoyal/JupyterNotebook/Datamics/MLCon_Berlin/local_artifact_store/90d9544bfc5f48a89d530bceea0404b9/artifacts\n",
      "--- Model logged successfully ---\n"
     ]
    }
   ],
   "source": [
    "# Create the DB URI and add it in the tracking and registry URI\n",
    "\n",
    "# Import the required libraries\n",
    "import mlflow\n",
    "\n",
    "import pandas as pd\n",
    "import numpy as np \n",
    "\n",
    "from sklearn.linear_model import ElasticNet\n",
    "from sklearn.model_selection import train_test_split\n",
    "from sklearn import metrics\n",
    "\n",
    "# Evaluation method\n",
    "def eval_metrics(ground_truth, pred):\n",
    "    \n",
    "    rmse = np.sqrt(metrics.mean_squared_error(ground_truth, pred))\n",
    "    mae = metrics.mean_absolute_error(ground_truth, pred)\n",
    "    r2 = metrics.r2_score(ground_truth, pred)\n",
    "    \n",
    "    return rmse, mae, r2\n",
    "\n",
    "# Read the wine-quality csv file\n",
    "df = pd.read_csv(\"../data/winequality-red.csv\")\n",
    "np.random.seed(40)\n",
    "\n",
    "# Split the data into training and test sets. (0.75, 0.25) split.\n",
    "X = df.drop('quality',axis=1)\n",
    "y = df['quality']\n",
    "X_train, X_test, y_train, y_test = train_test_split(X, y, test_size=0.25, random_state=43)\n",
    "\n",
    "### Train the model ###\n",
    "\n",
    "#######################################################\n",
    "################### MLflow code #######################\n",
    "#######################################################\n",
    "\n",
    "# setting the experiment details\n",
    "experiment_name = \"Experiment-7\"\n",
    "current_run_name = \"With new Backend store\"\n",
    "location = \"/Users/saumyagoyal/JupyterNotebook/Datamics/MLCon_Berlin/local_artifact_store\"\n",
    "db_path = \"/Users/saumyagoyal/JupyterNotebook/Datamics/MLCon_Berlin/sqlite_backend_store/backend_store.db\"\n",
    "db_uri = \"sqlite:///\"+db_path\n",
    "\n",
    "# adding tags for each run\n",
    "tags = {\"Demo\": \"True\",\n",
    "        \"created-by\": \"dev team ID\"}\n",
    "\n",
    "# Create and set a new experiment name\n",
    "mlflow.create_experiment(experiment_name, location)\n",
    "mlflow.set_experiment(experiment_name)\n",
    "\n",
    "# Set registry and tracking URI\n",
    "mlflow.set_registry_uri(db_uri)\n",
    "mlflow.set_tracking_uri(db_uri)\n",
    "\n",
    "with mlflow.start_run(run_name=current_run_name):\n",
    "    \n",
    "    alpha = 0.8\n",
    "    l1 = 0.4\n",
    "    \n",
    "    lr = ElasticNet(alpha=alpha, l1_ratio=l1)\n",
    "    lr.fit(X_train,y_train)\n",
    "\n",
    "    # Get prediction on Test dataset\n",
    "    y_pred = lr.predict(X_train)\n",
    "\n",
    "    # Check model performance on test\n",
    "    (rmse, mae, r2) = eval_metrics(y_train,y_pred)\n",
    "    print(f\"Dataset: Training \\nRMSE:{rmse}\\nMAE: {mae}\\nR2:{r2}\")\n",
    "\n",
    "    ###################### Logging code ######################\n",
    "    \n",
    "    #log parameters of the model\n",
    "    mlflow.log_param(\"alpha\", alpha)\n",
    "    mlflow.log_param(\"l1_ratio\", l1)\n",
    "    \n",
    "    # log metrics \n",
    "    mlflow.log_metric(\"rmse\", rmse)\n",
    "    mlflow.log_metric(\"r2\", r2)\n",
    "    mlflow.log_metric(\"mae\", mae)\n",
    "    \n",
    "    # log tags\n",
    "    mlflow.set_tags(tags)\n",
    "\n",
    "    # logging the model in artifact store\n",
    "    mlflow.sklearn.log_model(lr, \"Linear regression model 1\")\n",
    "    \n",
    "    # check the storage location\n",
    "    print(\"\\n\\nTracking URI: {}\".format(mlflow.get_tracking_uri()))\n",
    "    print(\"Artifact Location: {}\".format(mlflow.get_artifact_uri()))\n",
    "    print(\"--- Model logged successfully ---\")"
   ]
  },
  {
   "cell_type": "markdown",
   "id": "08e526fd",
   "metadata": {},
   "source": [
    "<font color=#FF0000>**Note:** The above code will not get logged to the previous mlflow dashboard</font><a href='http://127.0.0.1:5000'> http://127.0.0.1:5000 </a>"
   ]
  },
  {
   "cell_type": "markdown",
   "id": "2bc9b937",
   "metadata": {},
   "source": [
    "### 1.3 Create and run mlflow server\n",
    "\n",
    "It connects the tracking URI, artifact and backend store to the non default locations\n",
    "\n",
    "`mlflow server --default-artifact-root /Users/saumyagoyal/JupyterNotebook/Datamics/MLCon_Berlin/local_artifact_store  --backend-store-uri sqlite:////Users/saumyagoyal/JupyterNotebook/Datamics/MLCon_Berlin/sqlite_backend_store/backend_store.db --host 127.0.0.1 --port 5500 >> mlflow_server_log.txt`\n",
    "\n",
    "<font color=#FF0000>**Note:** You can create mlflow server to run on a remote machine using the above command and connecting the backend (Example: AWS RDS instance) and artifact store(example: AWS S3 bucket) accordingly.</font>"
   ]
  },
  {
   "cell_type": "markdown",
   "id": "a3e54756",
   "metadata": {},
   "source": [
    "![title](../screenshots/run_mlflow_server.png)"
   ]
  },
  {
   "cell_type": "markdown",
   "id": "2f34ce67",
   "metadata": {},
   "source": [
    "### 1.4 Check the logs in a new tracking server \n",
    "- Run the above code again\n",
    "- Delete the past history of 1 hour\n",
    "- Go to <a href='http://127.0.0.1:5500'> http://127.0.0.1:5500 </a>"
   ]
  },
  {
   "cell_type": "markdown",
   "id": "67128ea6",
   "metadata": {},
   "source": [
    "![title](../screenshots/mlflow_dashboard_backend_store.png)"
   ]
  },
  {
   "cell_type": "markdown",
   "id": "8ff1b09b",
   "metadata": {},
   "source": [
    "### 1.5 Explore Model Registry\n",
    "- Register models in the model registry\n",
    "- Create multiple versions\n",
    "- Move models to various environments"
   ]
  },
  {
   "cell_type": "markdown",
   "id": "920eac8b",
   "metadata": {},
   "source": [
    "![title](../screenshots/mlflow_model_registry.png)"
   ]
  },
  {
   "cell_type": "markdown",
   "id": "ad9e8240",
   "metadata": {},
   "source": [
    "![title](../screenshots/mlflow_registry_environments.png)"
   ]
  },
  {
   "cell_type": "markdown",
   "id": "5ff22473",
   "metadata": {},
   "source": [
    "<div class=\"alert alert-success\">\n",
    "    <h3> END </h3>\n",
    "</div> "
   ]
  }
 ],
 "metadata": {
  "kernelspec": {
   "display_name": "Python 3 (ipykernel)",
   "language": "python",
   "name": "python3"
  },
  "language_info": {
   "codemirror_mode": {
    "name": "ipython",
    "version": 3
   },
   "file_extension": ".py",
   "mimetype": "text/x-python",
   "name": "python",
   "nbconvert_exporter": "python",
   "pygments_lexer": "ipython3",
   "version": "3.9.6"
  }
 },
 "nbformat": 4,
 "nbformat_minor": 5
}
