{
 "cells": [
  {
   "cell_type": "markdown",
   "id": "3014ef8c",
   "metadata": {},
   "source": [
    "<a href=\"https://akademie.datamics.com/kursliste/\">![title](../screenshots/bg_datamics_top.png)</a>\n",
    "\n",
    "<center><em>© Datamics</em></center><br><center><em>Check out our courses on <a href='https://akademie.datamics.com/kursliste/'>www.akademie.datamics.com</a></em>"
   ]
  },
  {
   "cell_type": "markdown",
   "id": "f032386c",
   "metadata": {},
   "source": [
    "<div class=\"alert alert-info\">\n",
    "    <h2> 1. MLflow Installation and Jupyter Notebook setup </h2>\n",
    "</div>"
   ]
  },
  {
   "cell_type": "markdown",
   "id": "79894821",
   "metadata": {},
   "source": [
    "### 1. Create a folder within the Jupyter Notebook home for this workshop\n",
    "<div class=\"alert alert-warning\">\n",
    "Example folder: mlclon_mlflow\n",
    "<p> Path:<code>< Path to Jupyter Home >/mlcon_mlflow </code></p>\n",
    "</div>"
   ]
  },
  {
   "cell_type": "markdown",
   "id": "9df68978",
   "metadata": {},
   "source": [
    "### 2. Install  MLflow "
   ]
  },
  {
   "cell_type": "code",
   "execution_count": 1,
   "id": "564dd681",
   "metadata": {},
   "outputs": [],
   "source": [
    "# Installing MLflow\n",
    "# pip3 install mlflow"
   ]
  },
  {
   "cell_type": "markdown",
   "id": "45cff940",
   "metadata": {},
   "source": [
    "### ----------- Installation is complete -----------"
   ]
  },
  {
   "cell_type": "markdown",
   "id": "5b768f60",
   "metadata": {},
   "source": [
    "<div class=\"alert alert-info\">\n",
    "    <h2> 2. Running MLflow server </h2>\n",
    "</div>"
   ]
  },
  {
   "cell_type": "code",
   "execution_count": 2,
   "id": "741f7773",
   "metadata": {},
   "outputs": [],
   "source": [
    "# importing the packages\n",
    "import mlflow\n",
    "from random import random, randint"
   ]
  },
  {
   "cell_type": "markdown",
   "id": "12c020c0",
   "metadata": {},
   "source": [
    "<div class=\"alert alert-warning\"> \n",
    "    <p> Start the mlflow server (from Terminal)</p>\n",
    "    <p> Path:<code>< Path to Jupyter Home >/mlcon_mlflow </code></p>\n",
    "    Command: <code>mlflow ui</code>\n",
    "</div>"
   ]
  },
  {
   "cell_type": "markdown",
   "id": "78fe1f31",
   "metadata": {},
   "source": [
    "<div class=\"alert alert-warning\">\n",
    "    Check mlflow UI at <a href = http://127.0.0.1:5000/ > localhost:5000</a>\n",
    "</div>"
   ]
  },
  {
   "cell_type": "markdown",
   "id": "b864d0fe",
   "metadata": {},
   "source": [
    "<a>![title](../screenshots/mlflow_dashboard_1_1.png)</a>"
   ]
  },
  {
   "cell_type": "code",
   "execution_count": 3,
   "id": "bc66da7e",
   "metadata": {},
   "outputs": [
    {
     "name": "stdout",
     "output_type": "stream",
     "text": [
      "Running mlflow logging\n"
     ]
    }
   ],
   "source": [
    "# Logging data to mlflow server\n",
    "with mlflow.start_run():\n",
    "    print(\"Running mlflow logging\")\n",
    "\n",
    "    mlflow.log_param(\"Loss\", randint(0, 100))\n",
    "    mlflow.log_metric(\"Accuracy\", random())\n",
    "    mlflow.log_metric(\"F1 score\", random() + 1)"
   ]
  },
  {
   "cell_type": "markdown",
   "id": "c77729b9",
   "metadata": {},
   "source": [
    "<a>![title](../screenshots/mlflow_dashboard_1_2.png)</a>"
   ]
  },
  {
   "cell_type": "markdown",
   "id": "5d13ef9a",
   "metadata": {},
   "source": [
    "- You can see the logged metrics and parameters in the Default experiments\n",
    "- Run Name has been randomly selected by mlflow, this can be edited and we will learn how in the next session\n",
    "- Note that the artifact store is now defined with the default location within mlruns (where the current file is present). This can be customized too."
   ]
  },
  {
   "cell_type": "markdown",
   "id": "e155a2b9",
   "metadata": {},
   "source": [
    "<div class=\"alert alert-success\">\n",
    "    <h3> END of session 1 </h3>\n",
    "</div> "
   ]
  }
 ],
 "metadata": {
  "kernelspec": {
   "display_name": "mlflow",
   "language": "python",
   "name": "mlflow"
  },
  "language_info": {
   "codemirror_mode": {
    "name": "ipython",
    "version": 3
   },
   "file_extension": ".py",
   "mimetype": "text/x-python",
   "name": "python",
   "nbconvert_exporter": "python",
   "pygments_lexer": "ipython3",
   "version": "3.9.6"
  }
 },
 "nbformat": 4,
 "nbformat_minor": 5
}
